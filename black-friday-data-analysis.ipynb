{
 "cells": [
  {
   "cell_type": "markdown",
   "id": "e9de75fc",
   "metadata": {
    "papermill": {
     "duration": 0.007824,
     "end_time": "2024-11-23T19:49:10.803739",
     "exception": false,
     "start_time": "2024-11-23T19:49:10.795915",
     "status": "completed"
    },
    "tags": []
   },
   "source": [
    "# Black Friday Data Analysis"
   ]
  },
  {
   "cell_type": "markdown",
   "id": "ebeb0063",
   "metadata": {
    "papermill": {
     "duration": 0.006803,
     "end_time": "2024-11-23T19:49:10.817861",
     "exception": false,
     "start_time": "2024-11-23T19:49:10.811058",
     "status": "completed"
    },
    "tags": []
   },
   "source": [
    "## 1.0 Preparation of the data set"
   ]
  },
  {
   "cell_type": "code",
   "execution_count": 1,
   "id": "702a4276",
   "metadata": {
    "_cell_guid": "b1076dfc-b9ad-4769-8c92-a6c4dae69d19",
    "_uuid": "8f2839f25d086af736a60e9eeb907d3b93b6e0e5",
    "execution": {
     "iopub.execute_input": "2024-11-23T19:49:10.834755Z",
     "iopub.status.busy": "2024-11-23T19:49:10.833722Z",
     "iopub.status.idle": "2024-11-23T19:49:14.552456Z",
     "shell.execute_reply": "2024-11-23T19:49:14.551500Z"
    },
    "papermill": {
     "duration": 3.729851,
     "end_time": "2024-11-23T19:49:14.554994",
     "exception": false,
     "start_time": "2024-11-23T19:49:10.825143",
     "status": "completed"
    },
    "tags": []
   },
   "outputs": [],
   "source": [
    "# We installed the necessary libraries and dataset\n",
    "\n",
    "import numpy as np \n",
    "import matplotlib.pyplot as plt\n",
    "import seaborn as sns\n",
    "import pandas as pd\n",
    "\n",
    "df=pd.read_csv(\"/kaggle/input/black-friday-sale/train.csv\")"
   ]
  },
  {
   "cell_type": "markdown",
   "id": "430c51e2",
   "metadata": {
    "papermill": {
     "duration": 0.006793,
     "end_time": "2024-11-23T19:49:14.570100",
     "exception": false,
     "start_time": "2024-11-23T19:49:14.563307",
     "status": "completed"
    },
    "tags": []
   },
   "source": [
    "## 2.0 First look at the data"
   ]
  },
  {
   "cell_type": "code",
   "execution_count": 2,
   "id": "2d739494",
   "metadata": {
    "execution": {
     "iopub.execute_input": "2024-11-23T19:49:14.586540Z",
     "iopub.status.busy": "2024-11-23T19:49:14.585576Z",
     "iopub.status.idle": "2024-11-23T19:49:17.584070Z",
     "shell.execute_reply": "2024-11-23T19:49:17.583193Z"
    },
    "papermill": {
     "duration": 3.009087,
     "end_time": "2024-11-23T19:49:17.586318",
     "exception": false,
     "start_time": "2024-11-23T19:49:14.577231",
     "status": "completed"
    },
    "tags": []
   },
   "outputs": [],
   "source": [
    "#Trying to create missing data in code\n",
    "import random\n",
    "\n",
    "def add_random_missing_values(dataframe: pd.DataFrame,\n",
    "                              missing_rate: float = 0.05,\n",
    "                              seed: random = 42) -> pd.DataFrame:\n",
    "    \"\"\"Turns random values to NaN in a DataFrame.\n",
    "    \n",
    "    To use this function, you need to import pandas, numpy and random libraries.\n",
    "\n",
    "    Args:\n",
    "        dataframe (pd.DataFrame): DataFrame to be processed.\n",
    "        missing_rate (float): Percentage of missing value rate in float format. Defaults 0.05\n",
    "\n",
    "    \n",
    "    \"\"\"\n",
    "    # Get copy of dataframe\n",
    "    df_missing = dataframe.copy()\n",
    "\n",
    "    # Obtain size of dataframe and number total number of missing values\n",
    "    df_size = dataframe.size\n",
    "    num_missing = int(df_size * missing_rate)\n",
    "    \n",
    "    # Set seed\n",
    "    if seed:\n",
    "        random.seed(seed)\n",
    "\n",
    "    # Get random row and column indexes to turn them NaN\n",
    "    for _ in range(num_missing):\n",
    "        row_idx = random.randint(0, dataframe.shape[0] - 1)\n",
    "        col_idx = random.randint(0, dataframe.shape[1] - 1)\n",
    "\n",
    "        df_missing.iat[row_idx, col_idx] = np.nan\n",
    "        \n",
    "    return df_missing\n",
    "\n",
    "df = add_random_missing_values(dataframe = df,\n",
    "                               missing_rate = 0.03)"
   ]
  },
  {
   "cell_type": "code",
   "execution_count": 3,
   "id": "10c5ec1e",
   "metadata": {
    "execution": {
     "iopub.execute_input": "2024-11-23T19:49:17.603472Z",
     "iopub.status.busy": "2024-11-23T19:49:17.602580Z",
     "iopub.status.idle": "2024-11-23T19:49:17.631362Z",
     "shell.execute_reply": "2024-11-23T19:49:17.630246Z"
    },
    "papermill": {
     "duration": 0.039322,
     "end_time": "2024-11-23T19:49:17.633468",
     "exception": false,
     "start_time": "2024-11-23T19:49:17.594146",
     "status": "completed"
    },
    "tags": []
   },
   "outputs": [
    {
     "data": {
      "text/html": [
       "<div>\n",
       "<style scoped>\n",
       "    .dataframe tbody tr th:only-of-type {\n",
       "        vertical-align: middle;\n",
       "    }\n",
       "\n",
       "    .dataframe tbody tr th {\n",
       "        vertical-align: top;\n",
       "    }\n",
       "\n",
       "    .dataframe thead th {\n",
       "        text-align: right;\n",
       "    }\n",
       "</style>\n",
       "<table border=\"1\" class=\"dataframe\">\n",
       "  <thead>\n",
       "    <tr style=\"text-align: right;\">\n",
       "      <th></th>\n",
       "      <th>User_ID</th>\n",
       "      <th>Product_ID</th>\n",
       "      <th>Gender</th>\n",
       "      <th>Age</th>\n",
       "      <th>Occupation</th>\n",
       "      <th>City_Category</th>\n",
       "      <th>Stay_In_Current_City_Years</th>\n",
       "      <th>Marital_Status</th>\n",
       "      <th>Product_Category_1</th>\n",
       "      <th>Product_Category_2</th>\n",
       "      <th>Product_Category_3</th>\n",
       "      <th>Purchase</th>\n",
       "    </tr>\n",
       "  </thead>\n",
       "  <tbody>\n",
       "    <tr>\n",
       "      <th>0</th>\n",
       "      <td>1000001.0</td>\n",
       "      <td>P00069042</td>\n",
       "      <td>F</td>\n",
       "      <td>0-17</td>\n",
       "      <td>10.0</td>\n",
       "      <td>A</td>\n",
       "      <td>2</td>\n",
       "      <td>0.0</td>\n",
       "      <td>3.0</td>\n",
       "      <td>NaN</td>\n",
       "      <td>NaN</td>\n",
       "      <td>8370.0</td>\n",
       "    </tr>\n",
       "    <tr>\n",
       "      <th>1</th>\n",
       "      <td>1000001.0</td>\n",
       "      <td>P00248942</td>\n",
       "      <td>F</td>\n",
       "      <td>0-17</td>\n",
       "      <td>10.0</td>\n",
       "      <td>A</td>\n",
       "      <td>2</td>\n",
       "      <td>0.0</td>\n",
       "      <td>1.0</td>\n",
       "      <td>6.0</td>\n",
       "      <td>NaN</td>\n",
       "      <td>15200.0</td>\n",
       "    </tr>\n",
       "    <tr>\n",
       "      <th>2</th>\n",
       "      <td>1000001.0</td>\n",
       "      <td>P00087842</td>\n",
       "      <td>F</td>\n",
       "      <td>0-17</td>\n",
       "      <td>10.0</td>\n",
       "      <td>A</td>\n",
       "      <td>2</td>\n",
       "      <td>0.0</td>\n",
       "      <td>12.0</td>\n",
       "      <td>NaN</td>\n",
       "      <td>NaN</td>\n",
       "      <td>1422.0</td>\n",
       "    </tr>\n",
       "    <tr>\n",
       "      <th>3</th>\n",
       "      <td>1000001.0</td>\n",
       "      <td>P00085442</td>\n",
       "      <td>F</td>\n",
       "      <td>0-17</td>\n",
       "      <td>10.0</td>\n",
       "      <td>A</td>\n",
       "      <td>2</td>\n",
       "      <td>0.0</td>\n",
       "      <td>12.0</td>\n",
       "      <td>14.0</td>\n",
       "      <td>NaN</td>\n",
       "      <td>1057.0</td>\n",
       "    </tr>\n",
       "    <tr>\n",
       "      <th>4</th>\n",
       "      <td>1000002.0</td>\n",
       "      <td>P00285442</td>\n",
       "      <td>M</td>\n",
       "      <td>55+</td>\n",
       "      <td>16.0</td>\n",
       "      <td>C</td>\n",
       "      <td>4+</td>\n",
       "      <td>0.0</td>\n",
       "      <td>8.0</td>\n",
       "      <td>NaN</td>\n",
       "      <td>NaN</td>\n",
       "      <td>7969.0</td>\n",
       "    </tr>\n",
       "  </tbody>\n",
       "</table>\n",
       "</div>"
      ],
      "text/plain": [
       "     User_ID Product_ID Gender   Age  Occupation City_Category  \\\n",
       "0  1000001.0  P00069042      F  0-17        10.0             A   \n",
       "1  1000001.0  P00248942      F  0-17        10.0             A   \n",
       "2  1000001.0  P00087842      F  0-17        10.0             A   \n",
       "3  1000001.0  P00085442      F  0-17        10.0             A   \n",
       "4  1000002.0  P00285442      M   55+        16.0             C   \n",
       "\n",
       "  Stay_In_Current_City_Years  Marital_Status  Product_Category_1  \\\n",
       "0                          2             0.0                 3.0   \n",
       "1                          2             0.0                 1.0   \n",
       "2                          2             0.0                12.0   \n",
       "3                          2             0.0                12.0   \n",
       "4                         4+             0.0                 8.0   \n",
       "\n",
       "   Product_Category_2  Product_Category_3  Purchase  \n",
       "0                 NaN                 NaN    8370.0  \n",
       "1                 6.0                 NaN   15200.0  \n",
       "2                 NaN                 NaN    1422.0  \n",
       "3                14.0                 NaN    1057.0  \n",
       "4                 NaN                 NaN    7969.0  "
      ]
     },
     "execution_count": 3,
     "metadata": {},
     "output_type": "execute_result"
    }
   ],
   "source": [
    "#Let's view the new dataset\n",
    "df.head()"
   ]
  },
  {
   "cell_type": "code",
   "execution_count": 4,
   "id": "4fd1953f",
   "metadata": {
    "execution": {
     "iopub.execute_input": "2024-11-23T19:49:17.650201Z",
     "iopub.status.busy": "2024-11-23T19:49:17.649712Z",
     "iopub.status.idle": "2024-11-23T19:49:17.821189Z",
     "shell.execute_reply": "2024-11-23T19:49:17.820000Z"
    },
    "papermill": {
     "duration": 0.182445,
     "end_time": "2024-11-23T19:49:17.823564",
     "exception": false,
     "start_time": "2024-11-23T19:49:17.641119",
     "status": "completed"
    },
    "tags": []
   },
   "outputs": [
    {
     "name": "stdout",
     "output_type": "stream",
     "text": [
      "<class 'pandas.core.frame.DataFrame'>\n",
      "RangeIndex: 550068 entries, 0 to 550067\n",
      "Data columns (total 12 columns):\n",
      " #   Column                      Non-Null Count   Dtype  \n",
      "---  ------                      --------------   -----  \n",
      " 0   User_ID                     533938 non-null  float64\n",
      " 1   Product_ID                  533643 non-null  object \n",
      " 2   Gender                      533832 non-null  object \n",
      " 3   Age                         533858 non-null  object \n",
      " 4   Occupation                  533749 non-null  float64\n",
      " 5   City_Category               533869 non-null  object \n",
      " 6   Stay_In_Current_City_Years  533619 non-null  object \n",
      " 7   Marital_Status              533901 non-null  float64\n",
      " 8   Product_Category_1          533791 non-null  float64\n",
      " 9   Product_Category_2          365314 non-null  float64\n",
      " 10  Product_Category_3          161816 non-null  float64\n",
      " 11  Purchase                    533774 non-null  float64\n",
      "dtypes: float64(7), object(5)\n",
      "memory usage: 50.4+ MB\n"
     ]
    }
   ],
   "source": [
    "#Let's check the dataset\n",
    "df.info()"
   ]
  },
  {
   "cell_type": "code",
   "execution_count": 5,
   "id": "5dba21a6",
   "metadata": {
    "execution": {
     "iopub.execute_input": "2024-11-23T19:49:17.840350Z",
     "iopub.status.busy": "2024-11-23T19:49:17.839971Z",
     "iopub.status.idle": "2024-11-23T19:49:17.845589Z",
     "shell.execute_reply": "2024-11-23T19:49:17.844614Z"
    },
    "papermill": {
     "duration": 0.016836,
     "end_time": "2024-11-23T19:49:17.848138",
     "exception": false,
     "start_time": "2024-11-23T19:49:17.831302",
     "status": "completed"
    },
    "tags": []
   },
   "outputs": [
    {
     "name": "stdout",
     "output_type": "stream",
     "text": [
      "Columns in the dataset: ['User_ID', 'Product_ID', 'Gender', 'Age', 'Occupation', 'City_Category', 'Stay_In_Current_City_Years', 'Marital_Status', 'Product_Category_1', 'Product_Category_2', 'Product_Category_3', 'Purchase'] \n",
      "\n",
      "There are a total of 12 columns in the dataset.\n",
      "\n",
      "Type of 'columns' attribute in the dataset: <class 'pandas.core.indexes.base.Index'>\n",
      "\n"
     ]
    }
   ],
   "source": [
    "# Prints the columns in the dataset.\n",
    "print(\"Columns in the dataset:\", list(df.columns), '\\n')\n",
    "\n",
    "# Let's access the number of columns.\n",
    "print(f\"There are a total of {len(df.columns)} columns in the dataset.\\n\")\n",
    "\n",
    "# Observing the data type of the attributes and functions we often use is important to gain control over the code.\n",
    "print(f\"Type of 'columns' attribute in the dataset: {type(df.columns)}\\n\")\n"
   ]
  },
  {
   "cell_type": "code",
   "execution_count": 6,
   "id": "b2e52fba",
   "metadata": {
    "execution": {
     "iopub.execute_input": "2024-11-23T19:49:17.864894Z",
     "iopub.status.busy": "2024-11-23T19:49:17.864523Z",
     "iopub.status.idle": "2024-11-23T19:49:17.871529Z",
     "shell.execute_reply": "2024-11-23T19:49:17.870505Z"
    },
    "papermill": {
     "duration": 0.017973,
     "end_time": "2024-11-23T19:49:17.873717",
     "exception": false,
     "start_time": "2024-11-23T19:49:17.855744",
     "status": "completed"
    },
    "tags": []
   },
   "outputs": [
    {
     "name": "stdout",
     "output_type": "stream",
     "text": [
      "Categorical_features : ['Product_ID', 'Gender', 'Age', 'City_Category', 'Stay_In_Current_City_Years']\n",
      "Numerical_features : ['User_ID', 'Occupation', 'Marital_Status', 'Product_Category_1', 'Product_Category_2', 'Product_Category_3', 'Purchase']\n"
     ]
    }
   ],
   "source": [
    "# Separate columns into categorical and numerical features using list comprehension\n",
    "categorical_features = [col for col in df.columns if df[col].dtype in [\"object\", \"category\"]]\n",
    "numerical_features = [col for col in df.columns if df[col].dtype not in [\"object\", \"category\"]]\n",
    "print(\"Categorical_features :\",categorical_features)\n",
    "print(\"Numerical_features :\",numerical_features)"
   ]
  },
  {
   "cell_type": "code",
   "execution_count": 7,
   "id": "8c83d70e",
   "metadata": {
    "execution": {
     "iopub.execute_input": "2024-11-23T19:49:17.895081Z",
     "iopub.status.busy": "2024-11-23T19:49:17.894472Z",
     "iopub.status.idle": "2024-11-23T19:49:18.166444Z",
     "shell.execute_reply": "2024-11-23T19:49:18.165236Z"
    },
    "papermill": {
     "duration": 0.284321,
     "end_time": "2024-11-23T19:49:18.168788",
     "exception": false,
     "start_time": "2024-11-23T19:49:17.884467",
     "status": "completed"
    },
    "tags": []
   },
   "outputs": [
    {
     "data": {
      "text/html": [
       "<div>\n",
       "<style scoped>\n",
       "    .dataframe tbody tr th:only-of-type {\n",
       "        vertical-align: middle;\n",
       "    }\n",
       "\n",
       "    .dataframe tbody tr th {\n",
       "        vertical-align: top;\n",
       "    }\n",
       "\n",
       "    .dataframe thead th {\n",
       "        text-align: right;\n",
       "    }\n",
       "</style>\n",
       "<table border=\"1\" class=\"dataframe\">\n",
       "  <thead>\n",
       "    <tr style=\"text-align: right;\">\n",
       "      <th></th>\n",
       "      <th>User_ID</th>\n",
       "      <th>Occupation</th>\n",
       "      <th>Marital_Status</th>\n",
       "      <th>Product_Category_1</th>\n",
       "      <th>Product_Category_2</th>\n",
       "      <th>Product_Category_3</th>\n",
       "      <th>Purchase</th>\n",
       "    </tr>\n",
       "  </thead>\n",
       "  <tbody>\n",
       "    <tr>\n",
       "      <th>count</th>\n",
       "      <td>5.339380e+05</td>\n",
       "      <td>533749.000000</td>\n",
       "      <td>533901.000000</td>\n",
       "      <td>533791.000000</td>\n",
       "      <td>365314.000000</td>\n",
       "      <td>161816.000000</td>\n",
       "      <td>533774.000000</td>\n",
       "    </tr>\n",
       "    <tr>\n",
       "      <th>mean</th>\n",
       "      <td>1.003029e+06</td>\n",
       "      <td>8.076671</td>\n",
       "      <td>0.409746</td>\n",
       "      <td>5.404677</td>\n",
       "      <td>9.842119</td>\n",
       "      <td>12.666782</td>\n",
       "      <td>9262.731529</td>\n",
       "    </tr>\n",
       "    <tr>\n",
       "      <th>std</th>\n",
       "      <td>1.727494e+03</td>\n",
       "      <td>6.523459</td>\n",
       "      <td>0.491787</td>\n",
       "      <td>3.936572</td>\n",
       "      <td>5.086150</td>\n",
       "      <td>4.126041</td>\n",
       "      <td>5023.041426</td>\n",
       "    </tr>\n",
       "    <tr>\n",
       "      <th>min</th>\n",
       "      <td>1.000001e+06</td>\n",
       "      <td>0.000000</td>\n",
       "      <td>0.000000</td>\n",
       "      <td>1.000000</td>\n",
       "      <td>2.000000</td>\n",
       "      <td>3.000000</td>\n",
       "      <td>12.000000</td>\n",
       "    </tr>\n",
       "    <tr>\n",
       "      <th>25%</th>\n",
       "      <td>1.001516e+06</td>\n",
       "      <td>2.000000</td>\n",
       "      <td>0.000000</td>\n",
       "      <td>1.000000</td>\n",
       "      <td>5.000000</td>\n",
       "      <td>9.000000</td>\n",
       "      <td>5822.000000</td>\n",
       "    </tr>\n",
       "    <tr>\n",
       "      <th>50%</th>\n",
       "      <td>1.003075e+06</td>\n",
       "      <td>7.000000</td>\n",
       "      <td>0.000000</td>\n",
       "      <td>5.000000</td>\n",
       "      <td>9.000000</td>\n",
       "      <td>14.000000</td>\n",
       "      <td>8046.000000</td>\n",
       "    </tr>\n",
       "    <tr>\n",
       "      <th>75%</th>\n",
       "      <td>1.004478e+06</td>\n",
       "      <td>14.000000</td>\n",
       "      <td>1.000000</td>\n",
       "      <td>8.000000</td>\n",
       "      <td>15.000000</td>\n",
       "      <td>16.000000</td>\n",
       "      <td>12052.000000</td>\n",
       "    </tr>\n",
       "    <tr>\n",
       "      <th>max</th>\n",
       "      <td>1.006040e+06</td>\n",
       "      <td>20.000000</td>\n",
       "      <td>1.000000</td>\n",
       "      <td>20.000000</td>\n",
       "      <td>18.000000</td>\n",
       "      <td>18.000000</td>\n",
       "      <td>23961.000000</td>\n",
       "    </tr>\n",
       "  </tbody>\n",
       "</table>\n",
       "</div>"
      ],
      "text/plain": [
       "            User_ID     Occupation  Marital_Status  Product_Category_1  \\\n",
       "count  5.339380e+05  533749.000000   533901.000000       533791.000000   \n",
       "mean   1.003029e+06       8.076671        0.409746            5.404677   \n",
       "std    1.727494e+03       6.523459        0.491787            3.936572   \n",
       "min    1.000001e+06       0.000000        0.000000            1.000000   \n",
       "25%    1.001516e+06       2.000000        0.000000            1.000000   \n",
       "50%    1.003075e+06       7.000000        0.000000            5.000000   \n",
       "75%    1.004478e+06      14.000000        1.000000            8.000000   \n",
       "max    1.006040e+06      20.000000        1.000000           20.000000   \n",
       "\n",
       "       Product_Category_2  Product_Category_3       Purchase  \n",
       "count       365314.000000       161816.000000  533774.000000  \n",
       "mean             9.842119           12.666782    9262.731529  \n",
       "std              5.086150            4.126041    5023.041426  \n",
       "min              2.000000            3.000000      12.000000  \n",
       "25%              5.000000            9.000000    5822.000000  \n",
       "50%              9.000000           14.000000    8046.000000  \n",
       "75%             15.000000           16.000000   12052.000000  \n",
       "max             18.000000           18.000000   23961.000000  "
      ]
     },
     "execution_count": 7,
     "metadata": {},
     "output_type": "execute_result"
    }
   ],
   "source": [
    "#Let's see the statistical values ​​in the column\n",
    "df.describe()"
   ]
  },
  {
   "cell_type": "code",
   "execution_count": 8,
   "id": "1848f1c5",
   "metadata": {
    "execution": {
     "iopub.execute_input": "2024-11-23T19:49:18.188626Z",
     "iopub.status.busy": "2024-11-23T19:49:18.188139Z",
     "iopub.status.idle": "2024-11-23T19:49:18.335798Z",
     "shell.execute_reply": "2024-11-23T19:49:18.334815Z"
    },
    "papermill": {
     "duration": 0.159295,
     "end_time": "2024-11-23T19:49:18.338027",
     "exception": false,
     "start_time": "2024-11-23T19:49:18.178732",
     "status": "completed"
    },
    "tags": []
   },
   "outputs": [
    {
     "data": {
      "text/plain": [
       "User_ID                        16130\n",
       "Product_ID                     16425\n",
       "Gender                         16236\n",
       "Age                            16210\n",
       "Occupation                     16319\n",
       "City_Category                  16199\n",
       "Stay_In_Current_City_Years     16449\n",
       "Marital_Status                 16167\n",
       "Product_Category_1             16277\n",
       "Product_Category_2            184754\n",
       "Product_Category_3            388252\n",
       "Purchase                       16294\n",
       "dtype: int64"
      ]
     },
     "execution_count": 8,
     "metadata": {},
     "output_type": "execute_result"
    }
   ],
   "source": [
    "#Let's view the total number of NaN\n",
    "df.isnull().sum()"
   ]
  },
  {
   "cell_type": "code",
   "execution_count": 9,
   "id": "440a3fff",
   "metadata": {
    "execution": {
     "iopub.execute_input": "2024-11-23T19:49:18.356345Z",
     "iopub.status.busy": "2024-11-23T19:49:18.355626Z",
     "iopub.status.idle": "2024-11-23T19:49:18.635908Z",
     "shell.execute_reply": "2024-11-23T19:49:18.634690Z"
    },
    "papermill": {
     "duration": 0.291879,
     "end_time": "2024-11-23T19:49:18.638233",
     "exception": false,
     "start_time": "2024-11-23T19:49:18.346354",
     "status": "completed"
    },
    "tags": []
   },
   "outputs": [
    {
     "name": "stdout",
     "output_type": "stream",
     "text": [
      "The dataset contains 5865104 non-missing observations and 735712 missing observations.\n",
      "Percentage of missing data: 11.15%\n"
     ]
    }
   ],
   "source": [
    "# Calculate missing and non-missing observations\n",
    "missing_count = df.isnull().sum().sum()\n",
    "non_missing_count = df.notnull().sum().sum()\n",
    "total_count = df.size  # Total number of elements in the DataFrame\n",
    "\n",
    "# Calculate the percentage of missing data\n",
    "missing_percentage = (missing_count / total_count) * 100\n",
    "\n",
    "# Print the results\n",
    "print(f\"The dataset contains {non_missing_count} non-missing observations and {missing_count} missing observations.\")\n",
    "print(f\"Percentage of missing data: {missing_percentage:.2f}%\")"
   ]
  },
  {
   "cell_type": "code",
   "execution_count": 10,
   "id": "74152f86",
   "metadata": {
    "execution": {
     "iopub.execute_input": "2024-11-23T19:49:18.655854Z",
     "iopub.status.busy": "2024-11-23T19:49:18.655500Z",
     "iopub.status.idle": "2024-11-23T19:49:18.816604Z",
     "shell.execute_reply": "2024-11-23T19:49:18.815623Z"
    },
    "papermill": {
     "duration": 0.172477,
     "end_time": "2024-11-23T19:49:18.818888",
     "exception": false,
     "start_time": "2024-11-23T19:49:18.646411",
     "status": "completed"
    },
    "tags": []
   },
   "outputs": [
    {
     "data": {
      "text/html": [
       "<div>\n",
       "<style scoped>\n",
       "    .dataframe tbody tr th:only-of-type {\n",
       "        vertical-align: middle;\n",
       "    }\n",
       "\n",
       "    .dataframe tbody tr th {\n",
       "        vertical-align: top;\n",
       "    }\n",
       "\n",
       "    .dataframe thead th {\n",
       "        text-align: right;\n",
       "    }\n",
       "</style>\n",
       "<table border=\"1\" class=\"dataframe\">\n",
       "  <thead>\n",
       "    <tr style=\"text-align: right;\">\n",
       "      <th></th>\n",
       "      <th>User_ID</th>\n",
       "      <th>Product_ID</th>\n",
       "      <th>Gender</th>\n",
       "      <th>Age</th>\n",
       "      <th>Occupation</th>\n",
       "      <th>City_Category</th>\n",
       "      <th>Stay_In_Current_City_Years</th>\n",
       "      <th>Marital_Status</th>\n",
       "      <th>Product_Category_1</th>\n",
       "      <th>Product_Category_2</th>\n",
       "      <th>Product_Category_3</th>\n",
       "      <th>Purchase</th>\n",
       "    </tr>\n",
       "  </thead>\n",
       "  <tbody>\n",
       "    <tr>\n",
       "      <th>13</th>\n",
       "      <td>1000005.0</td>\n",
       "      <td>P00145042</td>\n",
       "      <td>M</td>\n",
       "      <td>26-35</td>\n",
       "      <td>20.0</td>\n",
       "      <td>A</td>\n",
       "      <td>1</td>\n",
       "      <td>1.0</td>\n",
       "      <td>1.0</td>\n",
       "      <td>2.0</td>\n",
       "      <td>5.0</td>\n",
       "      <td>15665.0</td>\n",
       "    </tr>\n",
       "    <tr>\n",
       "      <th>14</th>\n",
       "      <td>1000006.0</td>\n",
       "      <td>P00231342</td>\n",
       "      <td>F</td>\n",
       "      <td>51-55</td>\n",
       "      <td>9.0</td>\n",
       "      <td>A</td>\n",
       "      <td>1</td>\n",
       "      <td>0.0</td>\n",
       "      <td>5.0</td>\n",
       "      <td>8.0</td>\n",
       "      <td>14.0</td>\n",
       "      <td>5378.0</td>\n",
       "    </tr>\n",
       "    <tr>\n",
       "      <th>16</th>\n",
       "      <td>1000006.0</td>\n",
       "      <td>P0096642</td>\n",
       "      <td>F</td>\n",
       "      <td>51-55</td>\n",
       "      <td>9.0</td>\n",
       "      <td>A</td>\n",
       "      <td>1</td>\n",
       "      <td>0.0</td>\n",
       "      <td>2.0</td>\n",
       "      <td>3.0</td>\n",
       "      <td>4.0</td>\n",
       "      <td>13055.0</td>\n",
       "    </tr>\n",
       "    <tr>\n",
       "      <th>18</th>\n",
       "      <td>1000007.0</td>\n",
       "      <td>P00036842</td>\n",
       "      <td>M</td>\n",
       "      <td>36-45</td>\n",
       "      <td>1.0</td>\n",
       "      <td>B</td>\n",
       "      <td>1</td>\n",
       "      <td>1.0</td>\n",
       "      <td>1.0</td>\n",
       "      <td>14.0</td>\n",
       "      <td>16.0</td>\n",
       "      <td>11788.0</td>\n",
       "    </tr>\n",
       "    <tr>\n",
       "      <th>19</th>\n",
       "      <td>1000008.0</td>\n",
       "      <td>P00249542</td>\n",
       "      <td>M</td>\n",
       "      <td>26-35</td>\n",
       "      <td>12.0</td>\n",
       "      <td>C</td>\n",
       "      <td>4+</td>\n",
       "      <td>1.0</td>\n",
       "      <td>1.0</td>\n",
       "      <td>5.0</td>\n",
       "      <td>15.0</td>\n",
       "      <td>19614.0</td>\n",
       "    </tr>\n",
       "  </tbody>\n",
       "</table>\n",
       "</div>"
      ],
      "text/plain": [
       "      User_ID Product_ID Gender    Age  Occupation City_Category  \\\n",
       "13  1000005.0  P00145042      M  26-35        20.0             A   \n",
       "14  1000006.0  P00231342      F  51-55         9.0             A   \n",
       "16  1000006.0   P0096642      F  51-55         9.0             A   \n",
       "18  1000007.0  P00036842      M  36-45         1.0             B   \n",
       "19  1000008.0  P00249542      M  26-35        12.0             C   \n",
       "\n",
       "   Stay_In_Current_City_Years  Marital_Status  Product_Category_1  \\\n",
       "13                          1             1.0                 1.0   \n",
       "14                          1             0.0                 5.0   \n",
       "16                          1             0.0                 2.0   \n",
       "18                          1             1.0                 1.0   \n",
       "19                         4+             1.0                 1.0   \n",
       "\n",
       "    Product_Category_2  Product_Category_3  Purchase  \n",
       "13                 2.0                 5.0   15665.0  \n",
       "14                 8.0                14.0    5378.0  \n",
       "16                 3.0                 4.0   13055.0  \n",
       "18                14.0                16.0   11788.0  \n",
       "19                 5.0                15.0   19614.0  "
      ]
     },
     "execution_count": 10,
     "metadata": {},
     "output_type": "execute_result"
    }
   ],
   "source": [
    "#Let's see the rows with no missing data.\n",
    "df[df.notnull().all(axis = 1)][:5]"
   ]
  },
  {
   "cell_type": "markdown",
   "id": "43e4749d",
   "metadata": {
    "papermill": {
     "duration": 0.008088,
     "end_time": "2024-11-23T19:49:18.835417",
     "exception": false,
     "start_time": "2024-11-23T19:49:18.827329",
     "status": "completed"
    },
    "tags": []
   },
   "source": [
    "## 3.0 Filling in missing data"
   ]
  },
  {
   "cell_type": "code",
   "execution_count": 11,
   "id": "321918de",
   "metadata": {
    "execution": {
     "iopub.execute_input": "2024-11-23T19:49:18.853448Z",
     "iopub.status.busy": "2024-11-23T19:49:18.853104Z",
     "iopub.status.idle": "2024-11-23T19:49:19.042052Z",
     "shell.execute_reply": "2024-11-23T19:49:19.041011Z"
    },
    "papermill": {
     "duration": 0.200738,
     "end_time": "2024-11-23T19:49:19.044402",
     "exception": false,
     "start_time": "2024-11-23T19:49:18.843664",
     "status": "completed"
    },
    "tags": []
   },
   "outputs": [],
   "source": [
    "# Permanently drop rows where all values are missing\n",
    "df=df.dropna(how='all')"
   ]
  },
  {
   "cell_type": "code",
   "execution_count": 12,
   "id": "969a6c3f",
   "metadata": {
    "execution": {
     "iopub.execute_input": "2024-11-23T19:49:19.063085Z",
     "iopub.status.busy": "2024-11-23T19:49:19.062706Z",
     "iopub.status.idle": "2024-11-23T19:49:19.234877Z",
     "shell.execute_reply": "2024-11-23T19:49:19.233669Z"
    },
    "papermill": {
     "duration": 0.184557,
     "end_time": "2024-11-23T19:49:19.237390",
     "exception": false,
     "start_time": "2024-11-23T19:49:19.052833",
     "status": "completed"
    },
    "tags": []
   },
   "outputs": [
    {
     "name": "stdout",
     "output_type": "stream",
     "text": [
      "Missing values after filling:\n",
      "User_ID                       16130\n",
      "Product_ID                    16425\n",
      "Gender                        16236\n",
      "Age                           16210\n",
      "Occupation                    16319\n",
      "City_Category                 16199\n",
      "Stay_In_Current_City_Years    16449\n",
      "Marital_Status                16167\n",
      "Product_Category_1                0\n",
      "Product_Category_2                0\n",
      "Product_Category_3                0\n",
      "Purchase                      16294\n",
      "dtype: int64\n"
     ]
    }
   ],
   "source": [
    "# Fill missing values in each column with the most frequent value (mode)\n",
    "# Define the columns where missing values need to be handled\n",
    "columns_to_fill = ['Product_Category_2', 'Product_Category_3','Product_Category_1']\n",
    "\n",
    "# Iterate through the list of columns\n",
    "for col in columns_to_fill:\n",
    "    # Fill missing values in the current column with its most frequent value (mode)\n",
    "    df[col]=df[col].fillna(df[col].mode()[0])\n",
    "\n",
    "# Check for any remaining missing values in the dataset\n",
    "print(\"Missing values after filling:\")\n",
    "print(df.isnull().sum())"
   ]
  },
  {
   "cell_type": "code",
   "execution_count": 13,
   "id": "61e4881d",
   "metadata": {
    "execution": {
     "iopub.execute_input": "2024-11-23T19:49:19.256185Z",
     "iopub.status.busy": "2024-11-23T19:49:19.255511Z",
     "iopub.status.idle": "2024-11-23T19:49:19.398400Z",
     "shell.execute_reply": "2024-11-23T19:49:19.397210Z"
    },
    "papermill": {
     "duration": 0.154726,
     "end_time": "2024-11-23T19:49:19.400722",
     "exception": false,
     "start_time": "2024-11-23T19:49:19.245996",
     "status": "completed"
    },
    "tags": []
   },
   "outputs": [
    {
     "name": "stdout",
     "output_type": "stream",
     "text": [
      "Missing values after filling:\n",
      "User_ID                       16130\n",
      "Product_ID                    16425\n",
      "Gender                        16236\n",
      "Age                           16210\n",
      "Occupation                    16319\n",
      "City_Category                 16199\n",
      "Stay_In_Current_City_Years    16449\n",
      "Marital_Status                16167\n",
      "Product_Category_1                0\n",
      "Product_Category_2                0\n",
      "Product_Category_3                0\n",
      "Purchase                          0\n",
      "dtype: int64\n"
     ]
    }
   ],
   "source": [
    "# Step 1: Calculate the mean of the \"purchase\" column\n",
    "mean_purchase = df['Purchase'].mean()\n",
    "\n",
    "# Step 2: Fill missing values (NaN) in the \"purchase\" column with the mean\n",
    "df['Purchase']=df['Purchase'].fillna(value=mean_purchase)\n",
    "\n",
    "# Step 3: Check for any remaining missing values\n",
    "print(\"Missing values after filling:\")\n",
    "print(df.isna().sum())\n"
   ]
  },
  {
   "cell_type": "code",
   "execution_count": 14,
   "id": "5b9a582f",
   "metadata": {
    "execution": {
     "iopub.execute_input": "2024-11-23T19:49:19.419610Z",
     "iopub.status.busy": "2024-11-23T19:49:19.419256Z",
     "iopub.status.idle": "2024-11-23T19:49:19.562869Z",
     "shell.execute_reply": "2024-11-23T19:49:19.561992Z"
    },
    "papermill": {
     "duration": 0.155777,
     "end_time": "2024-11-23T19:49:19.565211",
     "exception": false,
     "start_time": "2024-11-23T19:49:19.409434",
     "status": "completed"
    },
    "tags": []
   },
   "outputs": [
    {
     "name": "stdout",
     "output_type": "stream",
     "text": [
      "Missing values after filling:\n",
      "User_ID                           0\n",
      "Product_ID                    16425\n",
      "Gender                        16236\n",
      "Age                           16210\n",
      "Occupation                    16319\n",
      "City_Category                 16199\n",
      "Stay_In_Current_City_Years    16449\n",
      "Marital_Status                16167\n",
      "Product_Category_1                0\n",
      "Product_Category_2                0\n",
      "Product_Category_3                0\n",
      "Purchase                          0\n",
      "dtype: int64\n"
     ]
    }
   ],
   "source": [
    "# Use ffill method directly to fill missing values in \"User_ID\" column\n",
    "df[\"User_ID\"] = df[\"User_ID\"].ffill()\n",
    "\n",
    "# Check for any remaining missing values\n",
    "print(\"Missing values after filling:\")\n",
    "print(df.isna().sum())"
   ]
  },
  {
   "cell_type": "code",
   "execution_count": 15,
   "id": "d0a70b06",
   "metadata": {
    "execution": {
     "iopub.execute_input": "2024-11-23T19:49:19.583710Z",
     "iopub.status.busy": "2024-11-23T19:49:19.583331Z",
     "iopub.status.idle": "2024-11-23T19:49:24.883822Z",
     "shell.execute_reply": "2024-11-23T19:49:24.882709Z"
    },
    "papermill": {
     "duration": 5.312301,
     "end_time": "2024-11-23T19:49:24.886062",
     "exception": false,
     "start_time": "2024-11-23T19:49:19.573761",
     "status": "completed"
    },
    "tags": []
   },
   "outputs": [
    {
     "name": "stdout",
     "output_type": "stream",
     "text": [
      "User_ID                           0\n",
      "Product_ID                        0\n",
      "Gender                            0\n",
      "Age                           16210\n",
      "Occupation                    16319\n",
      "City_Category                 16199\n",
      "Stay_In_Current_City_Years    16449\n",
      "Marital_Status                16167\n",
      "Product_Category_1                0\n",
      "Product_Category_2                0\n",
      "Product_Category_3                0\n",
      "Purchase                          0\n",
      "dtype: int64\n"
     ]
    }
   ],
   "source": [
    "#Let's use groupby function \n",
    "\n",
    "df[\"Product_ID\"] = df.groupby(\"User_ID\")[\"Product_ID\"].transform(lambda x: x.fillna(x.mode()[0]))\n",
    "df[\"Gender\"] = df.groupby(\"User_ID\")[\"Gender\"].transform(lambda x: x.fillna(x.mode()[0]))\n",
    "\n",
    "# Verify if missing values are filled\n",
    "print(df.isnull().sum())"
   ]
  },
  {
   "cell_type": "code",
   "execution_count": 16,
   "id": "7fc1b4c3",
   "metadata": {
    "execution": {
     "iopub.execute_input": "2024-11-23T19:49:24.905009Z",
     "iopub.status.busy": "2024-11-23T19:49:24.904604Z",
     "iopub.status.idle": "2024-11-23T19:49:25.089992Z",
     "shell.execute_reply": "2024-11-23T19:49:25.088882Z"
    },
    "papermill": {
     "duration": 0.198459,
     "end_time": "2024-11-23T19:49:25.093212",
     "exception": false,
     "start_time": "2024-11-23T19:49:24.894753",
     "status": "completed"
    },
    "tags": []
   },
   "outputs": [
    {
     "name": "stdout",
     "output_type": "stream",
     "text": [
      "0    1\n",
      "1    1\n",
      "2    1\n",
      "3    1\n",
      "4    0\n",
      "Name: Gender, dtype: int64\n"
     ]
    },
    {
     "name": "stderr",
     "output_type": "stream",
     "text": [
      "/tmp/ipykernel_17/1983743517.py:2: FutureWarning: Downcasting behavior in `replace` is deprecated and will be removed in a future version. To retain the old behavior, explicitly call `result.infer_objects(copy=False)`. To opt-in to the future behavior, set `pd.set_option('future.no_silent_downcasting', True)`\n",
      "  df['Gender'] = df['Gender'].replace({'F': 1, 'M': 0})\n"
     ]
    }
   ],
   "source": [
    "# Replace 'F' with 1 and 'M' with 0 in the 'Gender' column\n",
    "df['Gender'] = df['Gender'].replace({'F': 1, 'M': 0})\n",
    "\n",
    "# Explicitly convert the 'Gender' column to integers to avoid downcasting warning\n",
    "df['Gender'] = df['Gender'].astype(int)\n",
    "\n",
    "# Verify the changes\n",
    "print(df['Gender'].head())"
   ]
  },
  {
   "cell_type": "code",
   "execution_count": 17,
   "id": "a7be31cb",
   "metadata": {
    "execution": {
     "iopub.execute_input": "2024-11-23T19:49:25.112467Z",
     "iopub.status.busy": "2024-11-23T19:49:25.112103Z",
     "iopub.status.idle": "2024-11-23T19:49:25.675271Z",
     "shell.execute_reply": "2024-11-23T19:49:25.674123Z"
    },
    "papermill": {
     "duration": 0.575503,
     "end_time": "2024-11-23T19:49:25.677650",
     "exception": false,
     "start_time": "2024-11-23T19:49:25.102147",
     "status": "completed"
    },
    "tags": []
   },
   "outputs": [
    {
     "name": "stdout",
     "output_type": "stream",
     "text": [
      "User_ID                           0\n",
      "Product_ID                        0\n",
      "Gender                            0\n",
      "Age                               0\n",
      "Occupation                        0\n",
      "City_Category                 16199\n",
      "Stay_In_Current_City_Years    16449\n",
      "Marital_Status                    0\n",
      "Product_Category_1                0\n",
      "Product_Category_2                0\n",
      "Product_Category_3                0\n",
      "Purchase                          0\n",
      "dtype: int64\n"
     ]
    }
   ],
   "source": [
    "#Let's use groupby function \n",
    "\n",
    "df[\"Occupation\"] = df.groupby(\"Gender\")[\"Occupation\"].transform(lambda x: x.fillna(x.mode()[0]))\n",
    "df[\"Age\"] = df.groupby(\"Gender\")[\"Age\"].transform(lambda x: x.fillna(x.mode()[0]))\n",
    "df[\"Marital_Status\"] = df.groupby([\"Gender\",\"Age\",\"Occupation\"])[\"Marital_Status\"].transform(lambda x: x.fillna(x.mode()[0]))\n",
    "\n",
    "# Verify if missing values are filled\n",
    "print(df.isnull().sum())"
   ]
  },
  {
   "cell_type": "code",
   "execution_count": 18,
   "id": "bd0520f0",
   "metadata": {
    "execution": {
     "iopub.execute_input": "2024-11-23T19:49:25.696866Z",
     "iopub.status.busy": "2024-11-23T19:49:25.696500Z",
     "iopub.status.idle": "2024-11-23T19:49:26.298716Z",
     "shell.execute_reply": "2024-11-23T19:49:26.297551Z"
    },
    "papermill": {
     "duration": 0.614437,
     "end_time": "2024-11-23T19:49:26.301000",
     "exception": false,
     "start_time": "2024-11-23T19:49:25.686563",
     "status": "completed"
    },
    "tags": []
   },
   "outputs": [
    {
     "name": "stdout",
     "output_type": "stream",
     "text": [
      "User_ID                           0\n",
      "Product_ID                        0\n",
      "Gender                            0\n",
      "Age                               0\n",
      "Occupation                        0\n",
      "City_Category                     0\n",
      "Stay_In_Current_City_Years    16449\n",
      "Marital_Status                    0\n",
      "Product_Category_1                0\n",
      "Product_Category_2                0\n",
      "Product_Category_3                0\n",
      "Purchase                          0\n",
      "dtype: int64\n"
     ]
    }
   ],
   "source": [
    "# Get the unique values from the 'City_Category' column, excluding NaN values\n",
    "categories = df['City_Category'].dropna().unique()\n",
    "\n",
    "# Fill the 'NaN' values by randomly choosing from the available categories\n",
    "df['City_Category'] = df['City_Category'].apply(lambda x: np.random.choice(categories) if pd.isna(x) else x)\n",
    "\n",
    "# Verify if there are any missing values remaining\n",
    "print(df.isnull().sum())"
   ]
  },
  {
   "cell_type": "code",
   "execution_count": 19,
   "id": "ec4d043e",
   "metadata": {
    "execution": {
     "iopub.execute_input": "2024-11-23T19:49:26.320857Z",
     "iopub.status.busy": "2024-11-23T19:49:26.320212Z",
     "iopub.status.idle": "2024-11-23T19:49:26.918428Z",
     "shell.execute_reply": "2024-11-23T19:49:26.917294Z"
    },
    "papermill": {
     "duration": 0.611016,
     "end_time": "2024-11-23T19:49:26.921040",
     "exception": false,
     "start_time": "2024-11-23T19:49:26.310024",
     "status": "completed"
    },
    "tags": []
   },
   "outputs": [
    {
     "name": "stdout",
     "output_type": "stream",
     "text": [
      "User_ID                       0\n",
      "Product_ID                    0\n",
      "Gender                        0\n",
      "Age                           0\n",
      "Occupation                    0\n",
      "City_Category                 0\n",
      "Stay_In_Current_City_Years    0\n",
      "Marital_Status                0\n",
      "Product_Category_1            0\n",
      "Product_Category_2            0\n",
      "Product_Category_3            0\n",
      "Purchase                      0\n",
      "dtype: int64\n"
     ]
    }
   ],
   "source": [
    "from sklearn.impute import KNNImputer\n",
    "\n",
    "# Convert 'Stay_In_Current_City_Years' column to categorical if not already\n",
    "df['Stay_In_Current_City_Years'] = df['Stay_In_Current_City_Years'].astype('category')\n",
    "\n",
    "# Convert categorical values to numerical codes\n",
    "df['Stay_In_Current_City_Years'] = df['Stay_In_Current_City_Years'].cat.codes\n",
    "\n",
    "# Use KNN to fill in missing values\n",
    "imputer = KNNImputer(n_neighbors=3)\n",
    "df['Stay_In_Current_City_Years'] = imputer.fit_transform(df[['Stay_In_Current_City_Years']])\n",
    "\n",
    "# Replace negative values with zero\n",
    "df['Stay_In_Current_City_Years'] = np.maximum(df['Stay_In_Current_City_Years'], 0)\n",
    "\n",
    "# Convert the column back to categorical (optional, if you need categorical data)\n",
    "df['Stay_In_Current_City_Years'] = df['Stay_In_Current_City_Years'].astype('category')\n",
    "\n",
    "# Check if NaN values have been filled\n",
    "print(df.isnull().sum())"
   ]
  },
  {
   "cell_type": "code",
   "execution_count": 20,
   "id": "6d5f6405",
   "metadata": {
    "execution": {
     "iopub.execute_input": "2024-11-23T19:49:26.941541Z",
     "iopub.status.busy": "2024-11-23T19:49:26.941178Z",
     "iopub.status.idle": "2024-11-23T19:49:26.959556Z",
     "shell.execute_reply": "2024-11-23T19:49:26.958451Z"
    },
    "papermill": {
     "duration": 0.031185,
     "end_time": "2024-11-23T19:49:26.961669",
     "exception": false,
     "start_time": "2024-11-23T19:49:26.930484",
     "status": "completed"
    },
    "tags": []
   },
   "outputs": [
    {
     "data": {
      "text/html": [
       "<div>\n",
       "<style scoped>\n",
       "    .dataframe tbody tr th:only-of-type {\n",
       "        vertical-align: middle;\n",
       "    }\n",
       "\n",
       "    .dataframe tbody tr th {\n",
       "        vertical-align: top;\n",
       "    }\n",
       "\n",
       "    .dataframe thead th {\n",
       "        text-align: right;\n",
       "    }\n",
       "</style>\n",
       "<table border=\"1\" class=\"dataframe\">\n",
       "  <thead>\n",
       "    <tr style=\"text-align: right;\">\n",
       "      <th></th>\n",
       "      <th>User_ID</th>\n",
       "      <th>Product_ID</th>\n",
       "      <th>Gender</th>\n",
       "      <th>Age</th>\n",
       "      <th>Occupation</th>\n",
       "      <th>City_Category</th>\n",
       "      <th>Stay_In_Current_City_Years</th>\n",
       "      <th>Marital_Status</th>\n",
       "      <th>Product_Category_1</th>\n",
       "      <th>Product_Category_2</th>\n",
       "      <th>Product_Category_3</th>\n",
       "      <th>Purchase</th>\n",
       "    </tr>\n",
       "  </thead>\n",
       "  <tbody>\n",
       "    <tr>\n",
       "      <th>0</th>\n",
       "      <td>1000001.0</td>\n",
       "      <td>P00069042</td>\n",
       "      <td>1</td>\n",
       "      <td>0-17</td>\n",
       "      <td>10.0</td>\n",
       "      <td>A</td>\n",
       "      <td>2.0</td>\n",
       "      <td>0.0</td>\n",
       "      <td>3.0</td>\n",
       "      <td>8.0</td>\n",
       "      <td>16.0</td>\n",
       "      <td>8370.0</td>\n",
       "    </tr>\n",
       "    <tr>\n",
       "      <th>1</th>\n",
       "      <td>1000001.0</td>\n",
       "      <td>P00248942</td>\n",
       "      <td>1</td>\n",
       "      <td>0-17</td>\n",
       "      <td>10.0</td>\n",
       "      <td>A</td>\n",
       "      <td>2.0</td>\n",
       "      <td>0.0</td>\n",
       "      <td>1.0</td>\n",
       "      <td>6.0</td>\n",
       "      <td>16.0</td>\n",
       "      <td>15200.0</td>\n",
       "    </tr>\n",
       "    <tr>\n",
       "      <th>2</th>\n",
       "      <td>1000001.0</td>\n",
       "      <td>P00087842</td>\n",
       "      <td>1</td>\n",
       "      <td>0-17</td>\n",
       "      <td>10.0</td>\n",
       "      <td>A</td>\n",
       "      <td>2.0</td>\n",
       "      <td>0.0</td>\n",
       "      <td>12.0</td>\n",
       "      <td>8.0</td>\n",
       "      <td>16.0</td>\n",
       "      <td>1422.0</td>\n",
       "    </tr>\n",
       "    <tr>\n",
       "      <th>3</th>\n",
       "      <td>1000001.0</td>\n",
       "      <td>P00085442</td>\n",
       "      <td>1</td>\n",
       "      <td>0-17</td>\n",
       "      <td>10.0</td>\n",
       "      <td>A</td>\n",
       "      <td>2.0</td>\n",
       "      <td>0.0</td>\n",
       "      <td>12.0</td>\n",
       "      <td>14.0</td>\n",
       "      <td>16.0</td>\n",
       "      <td>1057.0</td>\n",
       "    </tr>\n",
       "    <tr>\n",
       "      <th>4</th>\n",
       "      <td>1000002.0</td>\n",
       "      <td>P00285442</td>\n",
       "      <td>0</td>\n",
       "      <td>55+</td>\n",
       "      <td>16.0</td>\n",
       "      <td>C</td>\n",
       "      <td>4.0</td>\n",
       "      <td>0.0</td>\n",
       "      <td>8.0</td>\n",
       "      <td>8.0</td>\n",
       "      <td>16.0</td>\n",
       "      <td>7969.0</td>\n",
       "    </tr>\n",
       "  </tbody>\n",
       "</table>\n",
       "</div>"
      ],
      "text/plain": [
       "     User_ID Product_ID  Gender   Age  Occupation City_Category  \\\n",
       "0  1000001.0  P00069042       1  0-17        10.0             A   \n",
       "1  1000001.0  P00248942       1  0-17        10.0             A   \n",
       "2  1000001.0  P00087842       1  0-17        10.0             A   \n",
       "3  1000001.0  P00085442       1  0-17        10.0             A   \n",
       "4  1000002.0  P00285442       0   55+        16.0             C   \n",
       "\n",
       "  Stay_In_Current_City_Years  Marital_Status  Product_Category_1  \\\n",
       "0                        2.0             0.0                 3.0   \n",
       "1                        2.0             0.0                 1.0   \n",
       "2                        2.0             0.0                12.0   \n",
       "3                        2.0             0.0                12.0   \n",
       "4                        4.0             0.0                 8.0   \n",
       "\n",
       "   Product_Category_2  Product_Category_3  Purchase  \n",
       "0                 8.0                16.0    8370.0  \n",
       "1                 6.0                16.0   15200.0  \n",
       "2                 8.0                16.0    1422.0  \n",
       "3                14.0                16.0    1057.0  \n",
       "4                 8.0                16.0    7969.0  "
      ]
     },
     "execution_count": 20,
     "metadata": {},
     "output_type": "execute_result"
    }
   ],
   "source": [
    "#After filling in the NaN values, let's take a look at the data\n",
    "df.head()"
   ]
  },
  {
   "cell_type": "code",
   "execution_count": 21,
   "id": "c71d8b26",
   "metadata": {
    "execution": {
     "iopub.execute_input": "2024-11-23T19:49:26.981741Z",
     "iopub.status.busy": "2024-11-23T19:49:26.981390Z",
     "iopub.status.idle": "2024-11-23T19:49:27.009162Z",
     "shell.execute_reply": "2024-11-23T19:49:27.008021Z"
    },
    "papermill": {
     "duration": 0.040645,
     "end_time": "2024-11-23T19:49:27.011569",
     "exception": false,
     "start_time": "2024-11-23T19:49:26.970924",
     "status": "completed"
    },
    "tags": []
   },
   "outputs": [],
   "source": [
    "df[\"Gender\"]=df[\"Gender\"].replace({1:\"F\",0:\"M\"}) #Reinstate gender data "
   ]
  },
  {
   "cell_type": "code",
   "execution_count": 22,
   "id": "7828a0b7",
   "metadata": {
    "execution": {
     "iopub.execute_input": "2024-11-23T19:49:27.032059Z",
     "iopub.status.busy": "2024-11-23T19:49:27.031379Z",
     "iopub.status.idle": "2024-11-23T19:49:27.153155Z",
     "shell.execute_reply": "2024-11-23T19:49:27.152027Z"
    },
    "papermill": {
     "duration": 0.134417,
     "end_time": "2024-11-23T19:49:27.155504",
     "exception": false,
     "start_time": "2024-11-23T19:49:27.021087",
     "status": "completed"
    },
    "tags": []
   },
   "outputs": [
    {
     "name": "stdout",
     "output_type": "stream",
     "text": [
      "<class 'pandas.core.frame.DataFrame'>\n",
      "RangeIndex: 550068 entries, 0 to 550067\n",
      "Data columns (total 12 columns):\n",
      " #   Column                      Non-Null Count   Dtype   \n",
      "---  ------                      --------------   -----   \n",
      " 0   User_ID                     550068 non-null  float64 \n",
      " 1   Product_ID                  550068 non-null  object  \n",
      " 2   Gender                      550068 non-null  object  \n",
      " 3   Age                         550068 non-null  object  \n",
      " 4   Occupation                  550068 non-null  float64 \n",
      " 5   City_Category               550068 non-null  object  \n",
      " 6   Stay_In_Current_City_Years  550068 non-null  category\n",
      " 7   Marital_Status              550068 non-null  float64 \n",
      " 8   Product_Category_1          550068 non-null  float64 \n",
      " 9   Product_Category_2          550068 non-null  float64 \n",
      " 10  Product_Category_3          550068 non-null  float64 \n",
      " 11  Purchase                    550068 non-null  float64 \n",
      "dtypes: category(1), float64(7), object(4)\n",
      "memory usage: 46.7+ MB\n"
     ]
    }
   ],
   "source": [
    "#Let's check our data again\n",
    "df.info()"
   ]
  },
  {
   "cell_type": "code",
   "execution_count": 23,
   "id": "0f5a46e2",
   "metadata": {
    "execution": {
     "iopub.execute_input": "2024-11-23T19:49:27.176860Z",
     "iopub.status.busy": "2024-11-23T19:49:27.175840Z",
     "iopub.status.idle": "2024-11-23T19:49:27.221251Z",
     "shell.execute_reply": "2024-11-23T19:49:27.220189Z"
    },
    "papermill": {
     "duration": 0.05832,
     "end_time": "2024-11-23T19:49:27.223425",
     "exception": false,
     "start_time": "2024-11-23T19:49:27.165105",
     "status": "completed"
    },
    "tags": []
   },
   "outputs": [
    {
     "data": {
      "text/html": [
       "<div>\n",
       "<style scoped>\n",
       "    .dataframe tbody tr th:only-of-type {\n",
       "        vertical-align: middle;\n",
       "    }\n",
       "\n",
       "    .dataframe tbody tr th {\n",
       "        vertical-align: top;\n",
       "    }\n",
       "\n",
       "    .dataframe thead th {\n",
       "        text-align: right;\n",
       "    }\n",
       "</style>\n",
       "<table border=\"1\" class=\"dataframe\">\n",
       "  <thead>\n",
       "    <tr style=\"text-align: right;\">\n",
       "      <th></th>\n",
       "      <th>Product_ID</th>\n",
       "      <th>Gender</th>\n",
       "      <th>Age</th>\n",
       "      <th>City_Category</th>\n",
       "    </tr>\n",
       "  </thead>\n",
       "  <tbody>\n",
       "    <tr>\n",
       "      <th>0</th>\n",
       "      <td>P00069042</td>\n",
       "      <td>F</td>\n",
       "      <td>0-17</td>\n",
       "      <td>A</td>\n",
       "    </tr>\n",
       "    <tr>\n",
       "      <th>1</th>\n",
       "      <td>P00248942</td>\n",
       "      <td>F</td>\n",
       "      <td>0-17</td>\n",
       "      <td>A</td>\n",
       "    </tr>\n",
       "    <tr>\n",
       "      <th>2</th>\n",
       "      <td>P00087842</td>\n",
       "      <td>F</td>\n",
       "      <td>0-17</td>\n",
       "      <td>A</td>\n",
       "    </tr>\n",
       "  </tbody>\n",
       "</table>\n",
       "</div>"
      ],
      "text/plain": [
       "  Product_ID Gender   Age City_Category\n",
       "0  P00069042      F  0-17             A\n",
       "1  P00248942      F  0-17             A\n",
       "2  P00087842      F  0-17             A"
      ]
     },
     "execution_count": 23,
     "metadata": {},
     "output_type": "execute_result"
    }
   ],
   "source": [
    "# Let's use select_dtypes() to select variables that hold a specific data type.\n",
    "df_categorical = df.select_dtypes(include = \"object\")\n",
    "df_categorical.head(3)"
   ]
  },
  {
   "cell_type": "code",
   "execution_count": 24,
   "id": "ca54e38a",
   "metadata": {
    "execution": {
     "iopub.execute_input": "2024-11-23T19:49:27.244646Z",
     "iopub.status.busy": "2024-11-23T19:49:27.243836Z",
     "iopub.status.idle": "2024-11-23T19:49:27.358289Z",
     "shell.execute_reply": "2024-11-23T19:49:27.357146Z"
    },
    "papermill": {
     "duration": 0.127291,
     "end_time": "2024-11-23T19:49:27.360473",
     "exception": false,
     "start_time": "2024-11-23T19:49:27.233182",
     "status": "completed"
    },
    "tags": []
   },
   "outputs": [
    {
     "name": "stdout",
     "output_type": "stream",
     "text": [
      "There are 3627 unique values in \"Product_ID\" categorical feature.\n",
      "\n",
      "There are 2 unique values in \"Gender\" categorical feature.\n",
      "\n",
      "There are 7 unique values in \"Age\" categorical feature.\n",
      "\n",
      "There are 3 unique values in \"City_Category\" categorical feature.\n",
      "\n"
     ]
    }
   ],
   "source": [
    "# We can use nunique() to see the number of unique values ​​in categorical variables.\n",
    "for col in df_categorical.columns:\n",
    "    print(f'There are {df_categorical[col].nunique()} unique values in \"{col}\" categorical feature.\\n')"
   ]
  },
  {
   "cell_type": "code",
   "execution_count": 25,
   "id": "8256f381",
   "metadata": {
    "execution": {
     "iopub.execute_input": "2024-11-23T19:49:27.381371Z",
     "iopub.status.busy": "2024-11-23T19:49:27.380994Z",
     "iopub.status.idle": "2024-11-23T19:49:27.639100Z",
     "shell.execute_reply": "2024-11-23T19:49:27.638054Z"
    },
    "papermill": {
     "duration": 0.271154,
     "end_time": "2024-11-23T19:49:27.641339",
     "exception": false,
     "start_time": "2024-11-23T19:49:27.370185",
     "status": "completed"
    },
    "tags": []
   },
   "outputs": [
    {
     "data": {
      "text/html": [
       "<div>\n",
       "<style scoped>\n",
       "    .dataframe tbody tr th:only-of-type {\n",
       "        vertical-align: middle;\n",
       "    }\n",
       "\n",
       "    .dataframe tbody tr th {\n",
       "        vertical-align: top;\n",
       "    }\n",
       "\n",
       "    .dataframe thead th {\n",
       "        text-align: right;\n",
       "    }\n",
       "</style>\n",
       "<table border=\"1\" class=\"dataframe\">\n",
       "  <thead>\n",
       "    <tr style=\"text-align: right;\">\n",
       "      <th></th>\n",
       "      <th>count</th>\n",
       "      <th>unique</th>\n",
       "      <th>top</th>\n",
       "      <th>freq</th>\n",
       "    </tr>\n",
       "  </thead>\n",
       "  <tbody>\n",
       "    <tr>\n",
       "      <th>Product_ID</th>\n",
       "      <td>550068</td>\n",
       "      <td>3627</td>\n",
       "      <td>P00000142</td>\n",
       "      <td>5709</td>\n",
       "    </tr>\n",
       "    <tr>\n",
       "      <th>Gender</th>\n",
       "      <td>550068</td>\n",
       "      <td>2</td>\n",
       "      <td>M</td>\n",
       "      <td>414253</td>\n",
       "    </tr>\n",
       "    <tr>\n",
       "      <th>Age</th>\n",
       "      <td>550068</td>\n",
       "      <td>7</td>\n",
       "      <td>26-35</td>\n",
       "      <td>229337</td>\n",
       "    </tr>\n",
       "    <tr>\n",
       "      <th>City_Category</th>\n",
       "      <td>550068</td>\n",
       "      <td>3</td>\n",
       "      <td>B</td>\n",
       "      <td>229774</td>\n",
       "    </tr>\n",
       "  </tbody>\n",
       "</table>\n",
       "</div>"
      ],
      "text/plain": [
       "                count unique        top    freq\n",
       "Product_ID     550068   3627  P00000142    5709\n",
       "Gender         550068      2          M  414253\n",
       "Age            550068      7      26-35  229337\n",
       "City_Category  550068      3          B  229774"
      ]
     },
     "execution_count": 25,
     "metadata": {},
     "output_type": "execute_result"
    }
   ],
   "source": [
    "df_categorical.describe().T #Let's examine the statistical expressions of categorical data."
   ]
  },
  {
   "cell_type": "code",
   "execution_count": 26,
   "id": "5a23e168",
   "metadata": {
    "execution": {
     "iopub.execute_input": "2024-11-23T19:49:27.662395Z",
     "iopub.status.busy": "2024-11-23T19:49:27.662003Z",
     "iopub.status.idle": "2024-11-23T19:49:27.701156Z",
     "shell.execute_reply": "2024-11-23T19:49:27.700117Z"
    },
    "papermill": {
     "duration": 0.052063,
     "end_time": "2024-11-23T19:49:27.703207",
     "exception": false,
     "start_time": "2024-11-23T19:49:27.651144",
     "status": "completed"
    },
    "tags": []
   },
   "outputs": [
    {
     "data": {
      "text/html": [
       "<div>\n",
       "<style scoped>\n",
       "    .dataframe tbody tr th:only-of-type {\n",
       "        vertical-align: middle;\n",
       "    }\n",
       "\n",
       "    .dataframe tbody tr th {\n",
       "        vertical-align: top;\n",
       "    }\n",
       "\n",
       "    .dataframe thead th {\n",
       "        text-align: right;\n",
       "    }\n",
       "</style>\n",
       "<table border=\"1\" class=\"dataframe\">\n",
       "  <thead>\n",
       "    <tr style=\"text-align: right;\">\n",
       "      <th></th>\n",
       "      <th>User_ID</th>\n",
       "      <th>Occupation</th>\n",
       "      <th>Marital_Status</th>\n",
       "      <th>Product_Category_1</th>\n",
       "      <th>Product_Category_2</th>\n",
       "      <th>Product_Category_3</th>\n",
       "      <th>Purchase</th>\n",
       "    </tr>\n",
       "  </thead>\n",
       "  <tbody>\n",
       "    <tr>\n",
       "      <th>0</th>\n",
       "      <td>1000001.0</td>\n",
       "      <td>10.0</td>\n",
       "      <td>0.0</td>\n",
       "      <td>3.0</td>\n",
       "      <td>8.0</td>\n",
       "      <td>16.0</td>\n",
       "      <td>8370.0</td>\n",
       "    </tr>\n",
       "    <tr>\n",
       "      <th>1</th>\n",
       "      <td>1000001.0</td>\n",
       "      <td>10.0</td>\n",
       "      <td>0.0</td>\n",
       "      <td>1.0</td>\n",
       "      <td>6.0</td>\n",
       "      <td>16.0</td>\n",
       "      <td>15200.0</td>\n",
       "    </tr>\n",
       "    <tr>\n",
       "      <th>2</th>\n",
       "      <td>1000001.0</td>\n",
       "      <td>10.0</td>\n",
       "      <td>0.0</td>\n",
       "      <td>12.0</td>\n",
       "      <td>8.0</td>\n",
       "      <td>16.0</td>\n",
       "      <td>1422.0</td>\n",
       "    </tr>\n",
       "  </tbody>\n",
       "</table>\n",
       "</div>"
      ],
      "text/plain": [
       "     User_ID  Occupation  Marital_Status  Product_Category_1  \\\n",
       "0  1000001.0        10.0             0.0                 3.0   \n",
       "1  1000001.0        10.0             0.0                 1.0   \n",
       "2  1000001.0        10.0             0.0                12.0   \n",
       "\n",
       "   Product_Category_2  Product_Category_3  Purchase  \n",
       "0                 8.0                16.0    8370.0  \n",
       "1                 6.0                16.0   15200.0  \n",
       "2                 8.0                16.0    1422.0  "
      ]
     },
     "execution_count": 26,
     "metadata": {},
     "output_type": "execute_result"
    }
   ],
   "source": [
    "# We can use the following structure to select numerical columns in the data set.\n",
    "df_numerical = df.select_dtypes(include = [\"float64\", \"int64\"])\n",
    "df_numerical.head(3)"
   ]
  },
  {
   "cell_type": "code",
   "execution_count": 27,
   "id": "2364b1af",
   "metadata": {
    "execution": {
     "iopub.execute_input": "2024-11-23T19:49:27.725354Z",
     "iopub.status.busy": "2024-11-23T19:49:27.724436Z",
     "iopub.status.idle": "2024-11-23T19:49:27.880711Z",
     "shell.execute_reply": "2024-11-23T19:49:27.879399Z"
    },
    "papermill": {
     "duration": 0.1705,
     "end_time": "2024-11-23T19:49:27.883536",
     "exception": false,
     "start_time": "2024-11-23T19:49:27.713036",
     "status": "completed"
    },
    "tags": []
   },
   "outputs": [
    {
     "data": {
      "text/html": [
       "<div>\n",
       "<style scoped>\n",
       "    .dataframe tbody tr th:only-of-type {\n",
       "        vertical-align: middle;\n",
       "    }\n",
       "\n",
       "    .dataframe tbody tr th {\n",
       "        vertical-align: top;\n",
       "    }\n",
       "\n",
       "    .dataframe thead th {\n",
       "        text-align: right;\n",
       "    }\n",
       "</style>\n",
       "<table border=\"1\" class=\"dataframe\">\n",
       "  <thead>\n",
       "    <tr style=\"text-align: right;\">\n",
       "      <th></th>\n",
       "      <th>count</th>\n",
       "      <th>mean</th>\n",
       "      <th>std</th>\n",
       "      <th>min</th>\n",
       "      <th>25%</th>\n",
       "      <th>50%</th>\n",
       "      <th>75%</th>\n",
       "      <th>max</th>\n",
       "    </tr>\n",
       "  </thead>\n",
       "  <tbody>\n",
       "    <tr>\n",
       "      <th>User_ID</th>\n",
       "      <td>550068.0</td>\n",
       "      <td>1.003029e+06</td>\n",
       "      <td>1727.591616</td>\n",
       "      <td>1000001.0</td>\n",
       "      <td>1001516.0</td>\n",
       "      <td>1003077.0</td>\n",
       "      <td>1004478.0</td>\n",
       "      <td>1006040.0</td>\n",
       "    </tr>\n",
       "    <tr>\n",
       "      <th>Occupation</th>\n",
       "      <td>550068.0</td>\n",
       "      <td>7.926938e+00</td>\n",
       "      <td>6.489494</td>\n",
       "      <td>0.0</td>\n",
       "      <td>2.0</td>\n",
       "      <td>7.0</td>\n",
       "      <td>14.0</td>\n",
       "      <td>20.0</td>\n",
       "    </tr>\n",
       "    <tr>\n",
       "      <th>Marital_Status</th>\n",
       "      <td>550068.0</td>\n",
       "      <td>4.039210e-01</td>\n",
       "      <td>0.490682</td>\n",
       "      <td>0.0</td>\n",
       "      <td>0.0</td>\n",
       "      <td>0.0</td>\n",
       "      <td>1.0</td>\n",
       "      <td>1.0</td>\n",
       "    </tr>\n",
       "    <tr>\n",
       "      <th>Product_Category_1</th>\n",
       "      <td>550068.0</td>\n",
       "      <td>5.392702e+00</td>\n",
       "      <td>3.878498</td>\n",
       "      <td>1.0</td>\n",
       "      <td>2.0</td>\n",
       "      <td>5.0</td>\n",
       "      <td>8.0</td>\n",
       "      <td>20.0</td>\n",
       "    </tr>\n",
       "    <tr>\n",
       "      <th>Product_Category_2</th>\n",
       "      <td>550068.0</td>\n",
       "      <td>9.223398e+00</td>\n",
       "      <td>4.235225</td>\n",
       "      <td>2.0</td>\n",
       "      <td>8.0</td>\n",
       "      <td>8.0</td>\n",
       "      <td>14.0</td>\n",
       "      <td>18.0</td>\n",
       "    </tr>\n",
       "    <tr>\n",
       "      <th>Product_Category_3</th>\n",
       "      <td>550068.0</td>\n",
       "      <td>1.501945e+01</td>\n",
       "      <td>2.704622</td>\n",
       "      <td>3.0</td>\n",
       "      <td>16.0</td>\n",
       "      <td>16.0</td>\n",
       "      <td>16.0</td>\n",
       "      <td>18.0</td>\n",
       "    </tr>\n",
       "    <tr>\n",
       "      <th>Purchase</th>\n",
       "      <td>550068.0</td>\n",
       "      <td>9.262732e+03</td>\n",
       "      <td>4948.086296</td>\n",
       "      <td>12.0</td>\n",
       "      <td>5881.0</td>\n",
       "      <td>8104.0</td>\n",
       "      <td>11977.0</td>\n",
       "      <td>23961.0</td>\n",
       "    </tr>\n",
       "  </tbody>\n",
       "</table>\n",
       "</div>"
      ],
      "text/plain": [
       "                       count          mean          std        min        25%  \\\n",
       "User_ID             550068.0  1.003029e+06  1727.591616  1000001.0  1001516.0   \n",
       "Occupation          550068.0  7.926938e+00     6.489494        0.0        2.0   \n",
       "Marital_Status      550068.0  4.039210e-01     0.490682        0.0        0.0   \n",
       "Product_Category_1  550068.0  5.392702e+00     3.878498        1.0        2.0   \n",
       "Product_Category_2  550068.0  9.223398e+00     4.235225        2.0        8.0   \n",
       "Product_Category_3  550068.0  1.501945e+01     2.704622        3.0       16.0   \n",
       "Purchase            550068.0  9.262732e+03  4948.086296       12.0     5881.0   \n",
       "\n",
       "                          50%        75%        max  \n",
       "User_ID             1003077.0  1004478.0  1006040.0  \n",
       "Occupation                7.0       14.0       20.0  \n",
       "Marital_Status            0.0        1.0        1.0  \n",
       "Product_Category_1        5.0        8.0       20.0  \n",
       "Product_Category_2        8.0       14.0       18.0  \n",
       "Product_Category_3       16.0       16.0       18.0  \n",
       "Purchase               8104.0    11977.0    23961.0  "
      ]
     },
     "execution_count": 27,
     "metadata": {},
     "output_type": "execute_result"
    }
   ],
   "source": [
    "df_numerical.describe().T"
   ]
  },
  {
   "cell_type": "markdown",
   "id": "118a7404",
   "metadata": {
    "papermill": {
     "duration": 0.010562,
     "end_time": "2024-11-23T19:49:27.908183",
     "exception": false,
     "start_time": "2024-11-23T19:49:27.897621",
     "status": "completed"
    },
    "tags": []
   },
   "source": [
    "## 4.0 Visualization of data"
   ]
  },
  {
   "cell_type": "code",
   "execution_count": 28,
   "id": "a8f6c46a",
   "metadata": {
    "execution": {
     "iopub.execute_input": "2024-11-23T19:49:27.939502Z",
     "iopub.status.busy": "2024-11-23T19:49:27.939072Z",
     "iopub.status.idle": "2024-11-23T19:49:29.074021Z",
     "shell.execute_reply": "2024-11-23T19:49:29.072981Z"
    },
    "papermill": {
     "duration": 1.152031,
     "end_time": "2024-11-23T19:49:29.076079",
     "exception": false,
     "start_time": "2024-11-23T19:49:27.924048",
     "status": "completed"
    },
    "tags": []
   },
   "outputs": [
    {
     "data": {
      "image/png": "[encoded data removed]",
      "text/plain": [
       "<Figure size 1000x600 with 1 Axes>"
      ]
     },
     "metadata": {},
     "output_type": "display_data"
    }
   ],
   "source": [
    "##Let's observe the difference in spending between men and women\n",
    "plt.figure(figsize=(10, 6))\n",
    "sns.boxplot(x='Age', y='Purchase', hue='Gender', data=df)\n",
    "plt.title('Amount spent by gender and age')\n",
    "plt.show()"
   ]
  },
  {
   "cell_type": "code",
   "execution_count": 29,
   "id": "0fe100be",
   "metadata": {
    "execution": {
     "iopub.execute_input": "2024-11-23T19:49:29.100354Z",
     "iopub.status.busy": "2024-11-23T19:49:29.099935Z",
     "iopub.status.idle": "2024-11-23T19:49:33.218275Z",
     "shell.execute_reply": "2024-11-23T19:49:33.217214Z"
    },
    "papermill": {
     "duration": 4.133355,
     "end_time": "2024-11-23T19:49:33.220572",
     "exception": false,
     "start_time": "2024-11-23T19:49:29.087217",
     "status": "completed"
    },
    "tags": []
   },
   "outputs": [
    {
     "data": {
      "image/png": "[encoded data removed]",
      "text/plain": [
       "<Figure size 640x480 with 1 Axes>"
      ]
     },
     "metadata": {},
     "output_type": "display_data"
    }
   ],
   "source": [
    "# Let's show the relationship between Occupation and spending amount\n",
    "sns.barplot(x='Occupation', y='Purchase', data=df)\n",
    "plt.title('Relationship between Occupation and purchase')\n",
    "plt.xticks(rotation=90)\n",
    "plt.show()"
   ]
  },
  {
   "cell_type": "code",
   "execution_count": 30,
   "id": "f303ac22",
   "metadata": {
    "execution": {
     "iopub.execute_input": "2024-11-23T19:49:33.245155Z",
     "iopub.status.busy": "2024-11-23T19:49:33.244752Z",
     "iopub.status.idle": "2024-11-23T19:49:33.609476Z",
     "shell.execute_reply": "2024-11-23T19:49:33.608464Z"
    },
    "papermill": {
     "duration": 0.379616,
     "end_time": "2024-11-23T19:49:33.611829",
     "exception": false,
     "start_time": "2024-11-23T19:49:33.232213",
     "status": "completed"
    },
    "tags": []
   },
   "outputs": [
    {
     "data": {
      "image/png": "[encoded data removed]",
      "text/plain": [
       "<Figure size 640x480 with 1 Axes>"
      ]
     },
     "metadata": {},
     "output_type": "display_data"
    }
   ],
   "source": [
    "#Let's examine which professions receive how much product.\n",
    "sns.countplot(x='Occupation', data=df)\n",
    "plt.title('Occupation vs Product Count')\n",
    "plt.xticks(rotation=90)\n",
    "plt.show()"
   ]
  },
  {
   "cell_type": "code",
   "execution_count": 31,
   "id": "c365b3e5",
   "metadata": {
    "execution": {
     "iopub.execute_input": "2024-11-23T19:49:33.637395Z",
     "iopub.status.busy": "2024-11-23T19:49:33.637000Z",
     "iopub.status.idle": "2024-11-23T19:49:34.109220Z",
     "shell.execute_reply": "2024-11-23T19:49:34.107987Z"
    },
    "papermill": {
     "duration": 0.487584,
     "end_time": "2024-11-23T19:49:34.111460",
     "exception": false,
     "start_time": "2024-11-23T19:49:33.623876",
     "status": "completed"
    },
    "tags": []
   },
   "outputs": [
    {
     "data": {
      "image/png": "[encoded data removed]",
      "text/plain": [
       "<Figure size 1200x600 with 1 Axes>"
      ]
     },
     "metadata": {},
     "output_type": "display_data"
    }
   ],
   "source": [
    "# Spending distributions by product category 1\n",
    "plt.figure(figsize=(12, 6))\n",
    "category_purchase = df.groupby('Product_Category_1')['Purchase'].sum().reset_index()\n",
    "category_purchase = category_purchase.sort_values(by='Purchase', ascending=False)\n",
    "sns.barplot(data=category_purchase, x='Product_Category_1', y='Purchase', palette='coolwarm')\n",
    "plt.title('Expenditures by Product Category 1', fontsize=16)\n",
    "plt.xlabel('Product Category 1', fontsize=12)\n",
    "plt.ylabel('Total spending', fontsize=12)\n",
    "plt.show()"
   ]
  },
  {
   "cell_type": "code",
   "execution_count": 32,
   "id": "443da4d3",
   "metadata": {
    "execution": {
     "iopub.execute_input": "2024-11-23T19:49:34.138361Z",
     "iopub.status.busy": "2024-11-23T19:49:34.137920Z",
     "iopub.status.idle": "2024-11-23T19:49:34.355455Z",
     "shell.execute_reply": "2024-11-23T19:49:34.354238Z"
    },
    "papermill": {
     "duration": 0.234843,
     "end_time": "2024-11-23T19:49:34.359007",
     "exception": false,
     "start_time": "2024-11-23T19:49:34.124164",
     "status": "completed"
    },
    "tags": []
   },
   "outputs": [
    {
     "data": {
      "image/png": "[encoded data removed]",
      "text/plain": [
       "<Figure size 800x800 with 1 Axes>"
      ]
     },
     "metadata": {},
     "output_type": "display_data"
    }
   ],
   "source": [
    "# Customer Distribution by City Categories (Pie Chart)\n",
    "plt.figure(figsize=(8, 8))\n",
    "city_distribution = df['City_Category'].value_counts()\n",
    "city_distribution.plot.pie(autopct='%1.1f%%', colors=sns.color_palette('Set2'), startangle=140)\n",
    "plt.title('Customer Distribution by City Categories (Pie Chart)', fontsize=16)\n",
    "plt.ylabel('')\n",
    "plt.show()"
   ]
  },
  {
   "cell_type": "code",
   "execution_count": 33,
   "id": "781ef4f6",
   "metadata": {
    "execution": {
     "iopub.execute_input": "2024-11-23T19:49:34.401770Z",
     "iopub.status.busy": "2024-11-23T19:49:34.401073Z",
     "iopub.status.idle": "2024-11-23T19:49:35.123758Z",
     "shell.execute_reply": "2024-11-23T19:49:35.122731Z"
    },
    "papermill": {
     "duration": 0.742842,
     "end_time": "2024-11-23T19:49:35.126049",
     "exception": false,
     "start_time": "2024-11-23T19:49:34.383207",
     "status": "completed"
    },
    "tags": []
   },
   "outputs": [
    {
     "data": {
      "image/png": "[encoded data removed]",
      "text/plain": [
       "<Figure size 1200x600 with 1 Axes>"
      ]
     },
     "metadata": {},
     "output_type": "display_data"
    }
   ],
   "source": [
    "\n",
    "# Set the figure size\n",
    "plt.figure(figsize=(12, 6))\n",
    "\n",
    "# Create a countplot to visualize the distribution of age groups by gender\n",
    "sns.countplot(data=df, x='Age', hue='Gender', palette='Set2', \n",
    "              order=['0-17', '18-25', '26-35', '36-45', '46-50', '51-55', '55+'])\n",
    "\n",
    "# Add a title to the plot\n",
    "plt.title('Age Distribution by Marital Status and Gender', fontsize=16)\n",
    "\n",
    "# Label the x-axis\n",
    "plt.xlabel('Age Group', fontsize=12)\n",
    "\n",
    "# Label the y-axis\n",
    "plt.ylabel('Number of People', fontsize=12)\n",
    "\n",
    "# Add a legend to distinguish between genders\n",
    "plt.legend(title='Gender', labels=['Female', 'Male'])\n",
    "\n",
    "# Display the plot\n",
    "plt.show()\n"
   ]
  }
 ],
 "metadata": {
  "kaggle": {
   "accelerator": "none",
   "dataSources": [
    {
     "datasetId": 2758244,
     "sourceId": 4765161,
     "sourceType": "datasetVersion"
    }
   ],
   "dockerImageVersionId": 30786,
   "isGpuEnabled": false,
   "isInternetEnabled": false,
   "language": "python",
   "sourceType": "notebook"
  },
  "kernelspec": {
   "display_name": "Python 3",
   "language": "python",
   "name": "python3"
  },
  "language_info": {
   "codemirror_mode": {
    "name": "ipython",
    "version": 3
   },
   "file_extension": ".py",
   "mimetype": "text/x-python",
   "name": "python",
   "nbconvert_exporter": "python",
   "pygments_lexer": "ipython3",
   "version": "3.10.14"
  },
  "papermill": {
   "default_parameters": {},
   "duration": 27.69566,
   "end_time": "2024-11-23T19:49:35.761019",
   "environment_variables": {},
   "exception": null,
   "input_path": "__notebook__.ipynb",
   "output_path": "__notebook__.ipynb",
   "parameters": {},
   "start_time": "2024-11-23T19:49:08.065359",
   "version": "2.6.0"
  }
 },
 "nbformat": 4,
 "nbformat_minor": 5
}
